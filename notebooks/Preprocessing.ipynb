{
 "cells": [
  {
   "cell_type": "markdown",
   "id": "470ef1b6",
   "metadata": {},
   "source": [
    "### Identifier et traiter les valeurs manquantes\n"
   ]
  },
  {
   "cell_type": "markdown",
   "id": "4c9d01b5",
   "metadata": {},
   "source": [
    "Dans cette étape, On:\n",
    "- Importe les données\n",
    "- Supprime la colonne des IDs\n",
    "- Remplace les valeur manquantes par NaN, afin d'etre identifier par KNNImputer\n",
    "- Garde les valeurs nuls (les zeros) de la colonne Pregnancies, parce que c'est logique\n",
    "- Utilise KNNImputer pour remplacer les valeurs manquantes\n",
    "- On affiche le nombre de valeurs nuls, pour confirmer le success de remplacement\n"
   ]
  },
  {
   "cell_type": "code",
   "execution_count": null,
   "id": "e75a4726",
   "metadata": {},
   "outputs": [],
   "source": [
    "import pandas as pd\n",
    "from sklearn.impute import KNNImputer\n",
    "import os\n",
    "import numpy as np\n",
    "\n",
    "df = pd.read_csv(os.getcwd() + '/../data/raw/dataset-diabete.csv')\n",
    "df.drop(\"Unnamed: 0\", axis=1, inplace=True)\n",
    "\n",
    "df[\"Glucose\"] = df[\"Glucose\"].replace(0, np.nan)\n",
    "df[\"BloodPressure\"] = df[\"BloodPressure\"].replace(0, np.nan)\n",
    "df[\"SkinThickness\"] = df[\"SkinThickness\"].replace(0, np.nan)\n",
    "df[\"Insulin\"] = df[\"Insulin\"].replace(0, np.nan)\n",
    "df[\"BMI\"] = df[\"BMI\"].replace(0, np.nan)\n",
    "\n",
    "imputer = KNNImputer(n_neighbors=5)\n",
    "df = pd.DataFrame(imputer.fit_transform(df), columns=df.columns)\n",
    "\n",
    "print(df.isnull().sum(), '\\n\\n')"
   ]
  }
 ],
 "metadata": {
  "kernelspec": {
   "display_name": "Python 3",
   "language": "python",
   "name": "python3"
  },
  "language_info": {
   "codemirror_mode": {
    "name": "ipython",
    "version": 3
   },
   "file_extension": ".py",
   "mimetype": "text/x-python",
   "name": "python",
   "nbconvert_exporter": "python",
   "pygments_lexer": "ipython3",
   "version": "3.13.7"
  }
 },
 "nbformat": 4,
 "nbformat_minor": 5
}
