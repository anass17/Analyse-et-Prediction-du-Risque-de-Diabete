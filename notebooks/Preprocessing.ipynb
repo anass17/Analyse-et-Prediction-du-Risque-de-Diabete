{
 "cells": [
  {
   "cell_type": "markdown",
   "id": "470ef1b6",
   "metadata": {},
   "source": [
    "### Identifier et traiter les valeurs manquantes\n"
   ]
  },
  {
   "cell_type": "markdown",
   "id": "4c9d01b5",
   "metadata": {},
   "source": [
    "Dans cette étape, On:\n",
    "- Importe les données\n",
    "- Supprime la colonne des IDs\n",
    "- Remplace les valeur manquantes par NaN, afin d'etre identifier par KNNImputer\n",
    "- Garde les valeurs nuls (les zeros) de la colonne Pregnancies, parce que c'est logique\n",
    "- Utilise KNNImputer pour remplacer les valeurs manquantes\n",
    "- On affiche le nombre de valeurs nuls, pour confirmer le success de remplacement\n"
   ]
  },
  {
   "cell_type": "code",
   "execution_count": null,
   "id": "e75a4726",
   "metadata": {},
   "outputs": [],
   "source": [
    "import pandas as pd\n",
    "from sklearn.impute import KNNImputer\n",
    "import os\n",
    "import numpy as np\n",
    "\n",
    "df = pd.read_csv(os.getcwd() + '/../data/raw/dataset-diabete.csv')\n",
    "df.drop(\"Unnamed: 0\", axis=1, inplace=True)\n",
    "\n",
    "df[\"Glucose\"] = df[\"Glucose\"].replace(0, np.nan)\n",
    "df[\"BloodPressure\"] = df[\"BloodPressure\"].replace(0, np.nan)\n",
    "df[\"SkinThickness\"] = df[\"SkinThickness\"].replace(0, np.nan)\n",
    "df[\"Insulin\"] = df[\"Insulin\"].replace(0, np.nan)\n",
    "df[\"BMI\"] = df[\"BMI\"].replace(0, np.nan)\n",
    "\n",
    "imputer = KNNImputer(n_neighbors=5)\n",
    "df = pd.DataFrame(imputer.fit_transform(df), columns=df.columns)\n",
    "\n",
    "print(df.isnull().sum(), '\\n\\n')"
   ]
  },
  {
   "cell_type": "markdown",
   "id": "1cba84a6",
   "metadata": {},
   "source": [
    "- **Histograms aprés modifications:**"
   ]
  },
  {
   "cell_type": "code",
   "execution_count": null,
   "id": "62e1443c",
   "metadata": {},
   "outputs": [],
   "source": [
    "import matplotlib.pyplot as plt\n",
    "\n",
    "counts = df['Age'].value_counts().sort_index()\n",
    "\n",
    "plt.figure(figsize=(15, 15))\n",
    "\n",
    "plt.subplot(3, 3, 1)\n",
    "plt.bar(counts.index, counts.values)\n",
    "plt.xlabel(\"Age\")\n",
    "plt.ylabel(\"Frequency\")\n",
    "plt.title(\"Bar Plot of Age\")\n",
    "\n",
    "counts = df['Pregnancies'].value_counts().sort_index()\n",
    "\n",
    "plt.subplot(3, 3, 2)\n",
    "plt.bar(counts.index, counts.values)\n",
    "plt.xlabel(\"Pregnancies\")\n",
    "plt.ylabel(\"Frequency\")\n",
    "plt.title(\"Bar Plot of Pregnancies\")\n",
    "\n",
    "plt.subplot(3, 3, 3)\n",
    "plt.hist(x=df[\"Glucose\"], rwidth=0.9, bins=range(0, round(df[\"Glucose\"].max() + 2), 10))\n",
    "plt.xlabel(\"Glucose\")\n",
    "plt.ylabel(\"Frequency\")\n",
    "plt.title(\"Histogram of Glucose\")\n",
    "\n",
    "plt.subplot(3, 3, 4)\n",
    "plt.hist(x=df[\"BloodPressure\"], rwidth=0.9, bins=range(0, round(df[\"BloodPressure\"].max() + 2), 5))\n",
    "plt.xlabel(\"BloodPressure\")\n",
    "plt.ylabel(\"Frequency\")\n",
    "plt.title(\"Histogram of BloodPressure\")\n",
    "\n",
    "plt.subplot(3, 3, 5)\n",
    "plt.hist(x=df[\"SkinThickness\"], rwidth=0.9, bins=range(0, round(df[\"SkinThickness\"].max() + 2), 3))\n",
    "plt.xlabel(\"SkinThickness\")\n",
    "plt.ylabel(\"Frequency\")\n",
    "plt.title(\"Histogram of SkinThickness\")\n",
    "\n",
    "plt.subplot(3, 3, 6)\n",
    "plt.hist(x=df[\"BMI\"], rwidth=0.9, bins=range(0, round(df[\"BMI\"].max() + 2), 3))\n",
    "plt.xlabel(\"BMI\")\n",
    "plt.ylabel(\"Frequency\")\n",
    "plt.title(\"Histogram of BMI\")\n",
    "\n",
    "plt.subplot(3, 3, 7)\n",
    "plt.hist(x=df[\"DiabetesPedigreeFunction\"], rwidth=0.9)\n",
    "plt.xlabel(\"DiabetesPedigreeFunction\")\n",
    "plt.ylabel(\"Frequency\")\n",
    "plt.title(\"Histogram of DiabetesPedigreeFunction\")\n",
    "\n",
    "plt.subplot(3, 3, 8)\n",
    "plt.hist(x=df[\"Insulin\"], rwidth=0.9, bins=range(0, round(df[\"Insulin\"].max() + 2), 20))\n",
    "plt.xlabel(\"Insulin\")\n",
    "plt.ylabel(\"Frequency\")\n",
    "plt.title(\"Histogram of Insulin\")\n",
    "\n",
    "plt.tight_layout()\n",
    "plt.show()"
   ]
  },
  {
   "cell_type": "markdown",
   "id": "2bb8067c",
   "metadata": {},
   "source": [
    "### Détecter les valeurs aberrantes"
   ]
  },
  {
   "cell_type": "markdown",
   "id": "208339fa",
   "metadata": {},
   "source": [
    "- **BoxPlots**"
   ]
  },
  {
   "cell_type": "code",
   "execution_count": null,
   "id": "2f0f82b3",
   "metadata": {},
   "outputs": [],
   "source": [
    "import matplotlib.pyplot as plt\n",
    "import seaborn as sns\n",
    "\n",
    "plt.figure(figsize=(15, 15))\n",
    "\n",
    "for i, col in enumerate(df.columns, 1): \n",
    "    plt.subplot(3, 3, i)\n",
    "    sns.boxplot(df[col])\n",
    "    plt.title(f\"Boxplot of {col}\")\n",
    "\n",
    "plt.tight_layout()\n",
    "plt.show()"
   ]
  },
  {
   "cell_type": "markdown",
   "id": "35f361fa",
   "metadata": {},
   "source": [
    "- **Identification de valeurs aberrantes:**"
   ]
  },
  {
   "cell_type": "markdown",
   "id": "e8357a55",
   "metadata": {},
   "source": [
    "On calcule les quartiles Q1 et Q3, puis on calcule leurs difference IQR. Les valeurs aberrantes sont les valeurs superieur à Q3 + IQR * 1.5 ou inferieur à Q1 - IQR * 1.5\n",
    "\n",
    "On affiche le nombre de valeurs aberrantes de chaque colonne."
   ]
  },
  {
   "cell_type": "code",
   "execution_count": null,
   "id": "ecb1fe38",
   "metadata": {},
   "outputs": [],
   "source": [
    "outliers = {}\n",
    "\n",
    "for col in df.columns:\n",
    "    Q1 = df[col].quantile(0.25)\n",
    "    Q3 = df[col].quantile(0.75)\n",
    "    IQR = Q3 - Q1\n",
    "\n",
    "    outliers[col] = (df[col] < Q1 - IQR * 1.5) | (df[col] > Q3 + IQR * 1.5)\n",
    "\n",
    "\n",
    "for k, v in outliers.items():\n",
    "    print(f\"{k :25s} - {v.sum()}\")\n"
   ]
  },
  {
   "cell_type": "markdown",
   "id": "551522aa",
   "metadata": {},
   "source": [
    "- **Traitement de valeurs aberrantes:**"
   ]
  },
  {
   "cell_type": "markdown",
   "id": "b0507a7e",
   "metadata": {},
   "source": [
    "Pour les colonne suivant:\n",
    "- SkinThickness\n",
    "- BloodPressure (normal 60–90)\n",
    "- BMI\n",
    "\n",
    "On supprime leurs valeurs aberrantes car ils sont impossible (BloodPressure) ou trés loin d'autres valeurs (SkinThickness)"
   ]
  },
  {
   "cell_type": "code",
   "execution_count": 317,
   "id": "a415fb82",
   "metadata": {},
   "outputs": [],
   "source": [
    "combined_outliers = outliers[\"SkinThickness\"] | outliers[\"BloodPressure\"] | outliers[\"BMI\"]\n",
    "\n",
    "df = df[~combined_outliers]"
   ]
  },
  {
   "cell_type": "markdown",
   "id": "e7aa89ca",
   "metadata": {},
   "source": [
    "Pour les colonne suivant:\n",
    "- Age\n",
    "- Pregnancies\n",
    "- Insulin\n",
    "- DiabetesPedigreeFunction\n",
    "\n",
    "On constate que les valeurs sont possibles mais les distributions sont asymétriques à droit, alors on utilise la transformation log pour gardez les valeurs et minimiser l'influence des valeurs aberrantes"
   ]
  },
  {
   "cell_type": "code",
   "execution_count": 318,
   "id": "65e89a9a",
   "metadata": {},
   "outputs": [],
   "source": [
    "df['Age'] = np.log(df['Age'])\n",
    "df['Pregnancies'] = np.log(df['Pregnancies'] + 1)\n",
    "df['Insulin'] = np.log(df['Insulin'])\n",
    "df['DiabetesPedigreeFunction'] = np.log(df['DiabetesPedigreeFunction'])"
   ]
  },
  {
   "cell_type": "code",
   "execution_count": null,
   "id": "d90e166d",
   "metadata": {},
   "outputs": [],
   "source": [
    "plt.figure(figsize=(15, 15))\n",
    "\n",
    "for i, col in enumerate(df.columns, 1): \n",
    "    plt.subplot(3, 3, i)\n",
    "    sns.boxplot(df[col])\n",
    "    plt.title(f\"Boxplot of {col}\")\n",
    "\n",
    "plt.tight_layout()\n",
    "plt.show()\n"
   ]
  },
  {
   "cell_type": "markdown",
   "id": "445ce2bd",
   "metadata": {},
   "source": [
    "Les histogrammes des distributions que contient des valeurs aberrantes:"
   ]
  },
  {
   "cell_type": "code",
   "execution_count": null,
   "id": "2c123cab",
   "metadata": {},
   "outputs": [],
   "source": [
    "plt.figure(figsize=(15, 5))\n",
    "\n",
    "plt.subplot(1, 3, 1)\n",
    "plt.hist(x=df[\"SkinThickness\"], rwidth=0.9, bins=range(0, round(df[\"SkinThickness\"].max() + 2), 2))\n",
    "plt.xlabel(\"SkinThickness\")\n",
    "plt.ylabel(\"Frequency\")\n",
    "plt.title(\"Histogram of SkinThickness\")\n",
    "\n",
    "plt.subplot(1, 3, 2)\n",
    "plt.hist(x=df[\"BMI\"], rwidth=0.9, bins=range(0, round(df[\"BMI\"].max() + 2), 2))\n",
    "plt.xlabel(\"BMI\")\n",
    "plt.ylabel(\"Frequency\")\n",
    "plt.title(\"Histogram of BMI\")\n",
    "\n",
    "plt.subplot(1, 3, 3)\n",
    "plt.hist(x=df[\"Insulin\"], rwidth=0.9, bins=30)\n",
    "plt.xlabel(\"Insulin\")\n",
    "plt.ylabel(\"Frequency\")\n",
    "plt.title(\"Histogram of Insulin\")\n",
    "\n",
    "plt.show()"
   ]
  },
  {
   "cell_type": "markdown",
   "id": "53acf311",
   "metadata": {},
   "source": [
    "### Sélectionner les variables les plus pertinentes."
   ]
  },
  {
   "cell_type": "markdown",
   "id": "d455ca82",
   "metadata": {},
   "source": [
    "La corrélation entre les variables a été analysée à l’aide de df.corr() et représentée sous forme de heatmap.\n",
    "Les résultats indiquent qu’aucune corrélation forte n’est observée (corrélation maximale = 0.68)."
   ]
  },
  {
   "cell_type": "code",
   "execution_count": null,
   "id": "d0cf0bb1",
   "metadata": {},
   "outputs": [],
   "source": [
    "import seaborn as sb\n",
    "\n",
    "matrice_corr = df.corr()\n",
    "plt.figure(figsize=(8,6))\n",
    "sb.heatmap(matrice_corr, annot=True, cmap=\"coolwarm\", fmt=\".2f\")\n",
    "plt.title(\"Correlation Heatmap\")\n",
    "plt.show()"
   ]
  },
  {
   "cell_type": "markdown",
   "id": "7c23b9cf",
   "metadata": {},
   "source": [
    "**Le calcul de variance:**"
   ]
  },
  {
   "cell_type": "markdown",
   "id": "e8213a28",
   "metadata": {},
   "source": [
    "On calcule la variance de chaque colonne."
   ]
  },
  {
   "cell_type": "code",
   "execution_count": null,
   "id": "0c04a654",
   "metadata": {},
   "outputs": [],
   "source": [
    "df_original = df.copy()\n",
    "\n",
    "df_original['Age'] = np.exp(df_original['Age'])\n",
    "df_original['Pregnancies'] = np.exp(df_original['Pregnancies']) - 1\n",
    "df_original['Insulin'] = np.exp(df_original['Insulin'])\n",
    "df_original['DiabetesPedigreeFunction'] = np.exp(df_original['DiabetesPedigreeFunction'])\n",
    "\n",
    "print(df_original.std().sort_values(ascending=False))\n"
   ]
  },
  {
   "cell_type": "markdown",
   "id": "ab919611",
   "metadata": {},
   "source": [
    "On applique la normalisation pour mettre toutes les variables sur la même échelle, puis on calcule la variance de chaque colonne.\n",
    "D’après les résultats, on constate que les variances ne sont pas faibles."
   ]
  },
  {
   "cell_type": "code",
   "execution_count": null,
   "id": "fb1cf57e",
   "metadata": {},
   "outputs": [],
   "source": [
    "df_original = df.copy()\n",
    "\n",
    "df_original['Age'] = np.exp(df_original['Age'])\n",
    "df_original['Pregnancies'] = np.exp(df_original['Pregnancies']) - 1\n",
    "df_original['Insulin'] = np.exp(df_original['Insulin'])\n",
    "df_original['DiabetesPedigreeFunction'] = np.exp(df_original['DiabetesPedigreeFunction'])\n",
    "\n",
    "from sklearn.preprocessing import MinMaxScaler\n",
    "\n",
    "scaler = MinMaxScaler()\n",
    "df_original = pd.DataFrame(\n",
    "    scaler.fit_transform(df_original),\n",
    "    columns=df_original.columns\n",
    ")\n",
    "\n",
    "print(df_original.var().sort_values(ascending=False))\n"
   ]
  },
  {
   "cell_type": "code",
   "execution_count": null,
   "id": "5a78e84e",
   "metadata": {},
   "outputs": [],
   "source": [
    "import seaborn as sns\n",
    "import matplotlib.pyplot as plt\n",
    "\n",
    "sns.pairplot(df)\n",
    "plt.show()"
   ]
  }
 ],
 "metadata": {
  "kernelspec": {
   "display_name": "Python 3",
   "language": "python",
   "name": "python3"
  },
  "language_info": {
   "codemirror_mode": {
    "name": "ipython",
    "version": 3
   },
   "file_extension": ".py",
   "mimetype": "text/x-python",
   "name": "python",
   "nbconvert_exporter": "python",
   "pygments_lexer": "ipython3",
   "version": "3.13.7"
  }
 },
 "nbformat": 4,
 "nbformat_minor": 5
}
