{
 "cells": [
  {
   "cell_type": "markdown",
   "id": "db0941df",
   "metadata": {},
   "source": [
    "### Définir les variables X (features) et y (target)."
   ]
  },
  {
   "cell_type": "markdown",
   "id": "71eb9323",
   "metadata": {},
   "source": [
    "- Chargement de données"
   ]
  },
  {
   "cell_type": "code",
   "execution_count": 1,
   "id": "c4c41405",
   "metadata": {},
   "outputs": [],
   "source": [
    "import pandas as pd\n",
    "import os\n",
    "import numpy as np\n",
    "\n",
    "df_category = pd.read_csv(os.getcwd() + '/../data/processed/dataset-category.csv')"
   ]
  },
  {
   "cell_type": "markdown",
   "id": "d3544edb",
   "metadata": {},
   "source": [
    "- Le choix de X et y"
   ]
  },
  {
   "cell_type": "code",
   "execution_count": null,
   "id": "6493ae65",
   "metadata": {},
   "outputs": [],
   "source": [
    "X = df_category.drop([\"Cluster\", \"risk_category\"], axis=1)\n",
    "y = df_category[\"Cluster\"]\n"
   ]
  }
 ],
 "metadata": {
  "kernelspec": {
   "display_name": "Python 3",
   "language": "python",
   "name": "python3"
  },
  "language_info": {
   "codemirror_mode": {
    "name": "ipython",
    "version": 3
   },
   "file_extension": ".py",
   "mimetype": "text/x-python",
   "name": "python",
   "nbconvert_exporter": "python",
   "pygments_lexer": "ipython3",
   "version": "3.13.7"
  }
 },
 "nbformat": 4,
 "nbformat_minor": 5
}
