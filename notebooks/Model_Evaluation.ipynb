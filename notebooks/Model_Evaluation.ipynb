{
 "cells": [
  {
   "cell_type": "markdown",
   "id": "db0941df",
   "metadata": {},
   "source": [
    "### Définir les variables X (features) et y (target)."
   ]
  },
  {
   "cell_type": "markdown",
   "id": "71eb9323",
   "metadata": {},
   "source": [
    "- Chargement de données"
   ]
  },
  {
   "cell_type": "code",
   "execution_count": 1,
   "id": "c4c41405",
   "metadata": {},
   "outputs": [],
   "source": [
    "import pandas as pd\n",
    "import os\n",
    "import numpy as np\n",
    "\n",
    "df_category = pd.read_csv(os.getcwd() + '/../data/processed/dataset-category.csv')"
   ]
  },
  {
   "cell_type": "markdown",
   "id": "d3544edb",
   "metadata": {},
   "source": [
    "- Le choix de X et y"
   ]
  },
  {
   "cell_type": "code",
   "execution_count": null,
   "id": "6493ae65",
   "metadata": {},
   "outputs": [],
   "source": [
    "X = df_category.drop([\"Cluster\", \"risk_category\"], axis=1)\n",
    "y = df_category[\"Cluster\"]\n"
   ]
  },
  {
   "cell_type": "markdown",
   "id": "998c26a9",
   "metadata": {},
   "source": [
    "### Diviser les données en train/test avec train_test_split."
   ]
  },
  {
   "cell_type": "code",
   "execution_count": 6,
   "id": "dd6534ea",
   "metadata": {},
   "outputs": [],
   "source": [
    "from sklearn.model_selection import train_test_split\n",
    "\n",
    "X_train, X_test, y_train, y_test = train_test_split(X, y, test_size=0.2, random_state=42, stratify=y)\n"
   ]
  },
  {
   "cell_type": "markdown",
   "id": "4d0465c0",
   "metadata": {},
   "source": [
    "### Traiter le déséquilibre des classes (RandomOverSampler, UnderSampler)."
   ]
  },
  {
   "cell_type": "markdown",
   "id": "a919246c",
   "metadata": {},
   "source": [
    "Calcul du pourcentage de chaque cluster: le paramètre **normalize=True** est utilisé pour diviser le nombre de lignes appartenant à chaque cluster par le nombre total de lignes du jeu de données, afin d’obtenir la proportion (en pourcentage) de chaque cluster."
   ]
  },
  {
   "cell_type": "code",
   "execution_count": 7,
   "id": "e5d48a89",
   "metadata": {},
   "outputs": [
    {
     "data": {
      "text/plain": [
       "Cluster\n",
       "0    0.512097\n",
       "1    0.487903\n",
       "Name: proportion, dtype: float64"
      ]
     },
     "execution_count": 7,
     "metadata": {},
     "output_type": "execute_result"
    }
   ],
   "source": [
    "y.value_counts(normalize=True)"
   ]
  },
  {
   "cell_type": "markdown",
   "id": "949cc08c",
   "metadata": {},
   "source": [
    "On remarque que les proportions des classes sont presque similaires. Par conséquent, l’ajout d’un traitement tel que RandomOverSampler, SMOTE ou RandomUnderSampler pourrait entraîner un surapprentissage (overfitting) inutile du modèle."
   ]
  },
  {
   "cell_type": "code",
   "execution_count": null,
   "id": "d0756171",
   "metadata": {},
   "outputs": [],
   "source": []
  }
 ],
 "metadata": {
  "kernelspec": {
   "display_name": "Python 3",
   "language": "python",
   "name": "python3"
  },
  "language_info": {
   "codemirror_mode": {
    "name": "ipython",
    "version": 3
   },
   "file_extension": ".py",
   "mimetype": "text/x-python",
   "name": "python",
   "nbconvert_exporter": "python",
   "pygments_lexer": "ipython3",
   "version": "3.13.7"
  }
 },
 "nbformat": 4,
 "nbformat_minor": 5
}
