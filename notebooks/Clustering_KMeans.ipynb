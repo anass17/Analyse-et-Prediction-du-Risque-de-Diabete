{
 "cells": [
  {
   "cell_type": "markdown",
   "id": "0f8edbee",
   "metadata": {},
   "source": [
    "### Utiliser la méthode du coude pour déterminer le nombre optimal de clusters."
   ]
  },
  {
   "cell_type": "markdown",
   "id": "0af60b8b",
   "metadata": {},
   "source": [
    "Chargement de données"
   ]
  },
  {
   "cell_type": "code",
   "execution_count": 2,
   "id": "a5ed216c",
   "metadata": {},
   "outputs": [],
   "source": [
    "import pandas as pd\n",
    "import os\n",
    "\n",
    "df_standard = pd.read_csv(os.getcwd() + '/../data/processed/dataset-standard.csv')"
   ]
  },
  {
   "cell_type": "markdown",
   "id": "ac99f512",
   "metadata": {},
   "source": [
    "Utilisation de la méthode du coude, pour detecter K"
   ]
  },
  {
   "cell_type": "code",
   "execution_count": null,
   "id": "67f1b933",
   "metadata": {},
   "outputs": [],
   "source": [
    "from sklearn.cluster import KMeans\n",
    "import matplotlib.pyplot as plt\n",
    "\n",
    "wcss = []\n",
    "K_range = range(1, 11)\n",
    "\n",
    "for k in K_range:\n",
    "    kmeans = KMeans(n_clusters=k, random_state=42)\n",
    "    kmeans.fit(df_standard)\n",
    "    wcss.append(kmeans.inertia_)\n",
    "\n",
    "# Plot\n",
    "plt.plot(K_range, wcss, marker='o')\n",
    "plt.xlabel(\"Number of clusters K\")\n",
    "plt.ylabel(\"WCSS (inertia)\")\n",
    "plt.title(\"Elbow Method\")\n",
    "plt.show()"
   ]
  },
  {
   "cell_type": "markdown",
   "id": "ea6fb958",
   "metadata": {},
   "source": [
    "Utilisation de la méthode de silhouette, pour detecter K"
   ]
  },
  {
   "cell_type": "code",
   "execution_count": null,
   "id": "fcbada14",
   "metadata": {},
   "outputs": [],
   "source": [
    "from sklearn.metrics import silhouette_score\n",
    "\n",
    "sil_scores = []\n",
    "\n",
    "for k in range(2, 11):  # Silhouette requires at least 2 clusters\n",
    "    kmeans = KMeans(n_clusters=k, random_state=42)\n",
    "    labels = kmeans.fit_predict(df_standard)\n",
    "    score = silhouette_score(df_standard, labels)\n",
    "    sil_scores.append(score)\n",
    "\n",
    "# Plot\n",
    "plt.plot(range(2, 11), sil_scores, marker='o')\n",
    "plt.xlabel(\"Number of clusters K\")\n",
    "plt.ylabel(\"Silhouette Score\")\n",
    "plt.title(\"Silhouette Method\")\n",
    "plt.show()"
   ]
  },
  {
   "cell_type": "markdown",
   "id": "74fe6557",
   "metadata": {},
   "source": [
    "D’après les résultats des deux méthodes, la valeur optimale de K est 2."
   ]
  },
  {
   "cell_type": "markdown",
   "id": "0c8e3fb7",
   "metadata": {},
   "source": [
    "### Entraîner le modèle K-Means avec le k optimal."
   ]
  },
  {
   "cell_type": "code",
   "execution_count": null,
   "id": "bb8da63e",
   "metadata": {},
   "outputs": [],
   "source": [
    "kmeans = KMeans(n_clusters=2, random_state=42)\n",
    "\n",
    "kmeans.fit(df_standard)"
   ]
  },
  {
   "cell_type": "code",
   "execution_count": null,
   "id": "c62cdd2c",
   "metadata": {},
   "outputs": [],
   "source": [
    "labels = kmeans.labels_\n",
    "\n",
    "df_standard['Cluster'] = labels\n",
    "\n",
    "print(df_standard.head())"
   ]
  }
 ],
 "metadata": {
  "kernelspec": {
   "display_name": "Python 3",
   "language": "python",
   "name": "python3"
  },
  "language_info": {
   "codemirror_mode": {
    "name": "ipython",
    "version": 3
   },
   "file_extension": ".py",
   "mimetype": "text/x-python",
   "name": "python",
   "nbconvert_exporter": "python",
   "pygments_lexer": "ipython3",
   "version": "3.13.7"
  }
 },
 "nbformat": 4,
 "nbformat_minor": 5
}
