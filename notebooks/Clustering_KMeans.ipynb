{
 "cells": [
  {
   "cell_type": "markdown",
   "id": "0f8edbee",
   "metadata": {},
   "source": [
    "### Utiliser la méthode du coude pour déterminer le nombre optimal de clusters."
   ]
  },
  {
   "cell_type": "markdown",
   "id": "0af60b8b",
   "metadata": {},
   "source": [
    "Chargement de données"
   ]
  },
  {
   "cell_type": "code",
   "execution_count": 2,
   "id": "a5ed216c",
   "metadata": {},
   "outputs": [],
   "source": [
    "import pandas as pd\n",
    "import os\n",
    "\n",
    "df_standard = pd.read_csv(os.getcwd() + '/../data/processed/dataset-standard.csv')"
   ]
  },
  {
   "cell_type": "markdown",
   "id": "ac99f512",
   "metadata": {},
   "source": [
    "Utilisation de la méthode du coude, pour detecter K"
   ]
  },
  {
   "cell_type": "code",
   "execution_count": null,
   "id": "67f1b933",
   "metadata": {},
   "outputs": [],
   "source": [
    "from sklearn.cluster import KMeans\n",
    "import matplotlib.pyplot as plt\n",
    "\n",
    "wcss = []\n",
    "K_range = range(1, 11)\n",
    "\n",
    "for k in K_range:\n",
    "    kmeans = KMeans(n_clusters=k, random_state=42)\n",
    "    kmeans.fit(df_standard)\n",
    "    wcss.append(kmeans.inertia_)\n",
    "\n",
    "# Plot\n",
    "plt.plot(K_range, wcss, marker='o')\n",
    "plt.xlabel(\"Number of clusters K\")\n",
    "plt.ylabel(\"WCSS (inertia)\")\n",
    "plt.title(\"Elbow Method\")\n",
    "plt.show()"
   ]
  },
  {
   "cell_type": "markdown",
   "id": "ea6fb958",
   "metadata": {},
   "source": [
    "Utilisation de la méthode de silhouette, pour detecter K"
   ]
  },
  {
   "cell_type": "code",
   "execution_count": null,
   "id": "fcbada14",
   "metadata": {},
   "outputs": [],
   "source": [
    "from sklearn.metrics import silhouette_score\n",
    "\n",
    "sil_scores = []\n",
    "\n",
    "for k in range(2, 11):\n",
    "    kmeans = KMeans(n_clusters=k, random_state=42)\n",
    "    labels = kmeans.fit_predict(df_standard)\n",
    "    score = silhouette_score(df_standard, labels)\n",
    "    sil_scores.append(score)\n",
    "\n",
    "plt.plot(range(2, 11), sil_scores, marker='o')\n",
    "plt.xlabel(\"Number of clusters K\")\n",
    "plt.ylabel(\"Silhouette Score\")\n",
    "plt.title(\"Silhouette Method\")\n",
    "plt.show()"
   ]
  },
  {
   "cell_type": "markdown",
   "id": "74fe6557",
   "metadata": {},
   "source": [
    "D’après les résultats des deux méthodes, la valeur optimale de K est 2."
   ]
  },
  {
   "cell_type": "markdown",
   "id": "0c8e3fb7",
   "metadata": {},
   "source": [
    "### Entraîner le modèle K-Means avec le k optimal."
   ]
  },
  {
   "cell_type": "markdown",
   "id": "7b2fa89a",
   "metadata": {},
   "source": [
    "Avec K = 2"
   ]
  },
  {
   "cell_type": "code",
   "execution_count": null,
   "id": "bb8da63e",
   "metadata": {},
   "outputs": [],
   "source": [
    "kmeans = KMeans(n_clusters=2, random_state=42)\n",
    "\n",
    "kmeans.fit(df_standard)"
   ]
  },
  {
   "cell_type": "markdown",
   "id": "b71dd6ba",
   "metadata": {},
   "source": [
    "- Ajouter une colonne (Cluster) pour la classification de données"
   ]
  },
  {
   "cell_type": "code",
   "execution_count": null,
   "id": "c62cdd2c",
   "metadata": {},
   "outputs": [],
   "source": [
    "labels = kmeans.labels_\n",
    "\n",
    "df_standard['Cluster'] = labels\n",
    "\n",
    "print(df_standard.head())"
   ]
  },
  {
   "cell_type": "markdown",
   "id": "9f99c4d1",
   "metadata": {},
   "source": [
    "Visualisation des résultats en utilisant uniquement deux colonnes : Glucose et BMI. Les clusters ne sont pas clairement séparés, car les données nécessitent 8 dimensions et nous les projetons dans un espace en deux dimensions."
   ]
  },
  {
   "cell_type": "code",
   "execution_count": null,
   "id": "450efee0",
   "metadata": {},
   "outputs": [],
   "source": [
    "import matplotlib.pyplot as plt\n",
    "\n",
    "X = df_standard[['Glucose', 'BMI']].values\n",
    "\n",
    "plt.scatter(X[:, 0], X[:, 1], c=kmeans.labels_, cmap='viridis')\n",
    "plt.scatter(kmeans.cluster_centers_[:, 5], kmeans.cluster_centers_[:, 1],\n",
    "            s=200, c='red', marker='X', label='Centroïdes')\n",
    "plt.title('Répartition des observations par cluster (K=2)')\n",
    "plt.xlabel('Glucose')\n",
    "plt.ylabel('BMI')\n",
    "plt.legend()\n",
    "plt.show()"
   ]
  },
  {
   "cell_type": "markdown",
   "id": "63caa8ec",
   "metadata": {},
   "source": [
    "On utilise alors la PCA pour réduire le nombre de dimensions à deux, afin de mieux représenter les données."
   ]
  },
  {
   "cell_type": "code",
   "execution_count": null,
   "id": "8f9af1cb",
   "metadata": {},
   "outputs": [],
   "source": [
    "from sklearn.decomposition import PCA\n",
    "\n",
    "pca = PCA(n_components=2)\n",
    "X_pca = pca.fit_transform(df_standard)\n",
    "\n",
    "centroids_df = pd.DataFrame(kmeans.cluster_centers_, columns=df_standard.columns)\n",
    "centroids_pca = pca.transform(centroids_df)\n",
    "\n",
    "plt.scatter(X_pca[:, 0], X_pca[:, 1], c=kmeans.labels_, cmap='viridis')\n",
    "plt.scatter(centroids_pca[:, 0], centroids_pca[:, 1], s=200, c='red', marker='X', label='Centroïdes (PCA)')\n",
    "plt.title('Visualisation des clusters après réduction PCA')\n",
    "plt.xlabel('Composante principale 1')\n",
    "plt.ylabel('Composante principale 2')\n",
    "plt.legend()\n",
    "plt.show()"
   ]
  }
 ],
 "metadata": {
  "kernelspec": {
   "display_name": "Python 3",
   "language": "python",
   "name": "python3"
  },
  "language_info": {
   "codemirror_mode": {
    "name": "ipython",
    "version": 3
   },
   "file_extension": ".py",
   "mimetype": "text/x-python",
   "name": "python",
   "nbconvert_exporter": "python",
   "pygments_lexer": "ipython3",
   "version": "3.13.7"
  }
 },
 "nbformat": 4,
 "nbformat_minor": 5
}
