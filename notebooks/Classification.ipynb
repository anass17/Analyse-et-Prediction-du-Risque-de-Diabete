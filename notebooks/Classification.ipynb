{
 "cells": [
  {
   "cell_type": "markdown",
   "id": "47c19226",
   "metadata": {},
   "source": [
    "### Calculer les moyennes de chaque variable dans chaque cluster.\n"
   ]
  },
  {
   "cell_type": "code",
   "execution_count": null,
   "id": "49341cfa",
   "metadata": {},
   "outputs": [],
   "source": [
    "import pandas as pd\n",
    "import os\n",
    "\n",
    "df_classified = pd.read_csv(os.getcwd() + '/../data/processed/dataset-classified.csv')\n",
    "\n",
    "cluster_means = df_classified.groupby('Cluster').mean()\n",
    "print(cluster_means)"
   ]
  },
  {
   "cell_type": "markdown",
   "id": "e2c6bd9b",
   "metadata": {},
   "source": [
    "### Compter le nombre d’observations par groupe."
   ]
  },
  {
   "cell_type": "code",
   "execution_count": null,
   "id": "78149747",
   "metadata": {},
   "outputs": [],
   "source": [
    "import pandas as pd\n",
    "import os\n",
    "\n",
    "df_classified = pd.read_csv(os.getcwd() + '/../data/processed/dataset-classified.csv')\n",
    "\n",
    "cluster_means = df_classified['Cluster'].value_counts()\n",
    "print(cluster_means)"
   ]
  }
 ],
 "metadata": {
  "kernelspec": {
   "display_name": "Python 3",
   "language": "python",
   "name": "python3"
  },
  "language_info": {
   "codemirror_mode": {
    "name": "ipython",
    "version": 3
   },
   "file_extension": ".py",
   "mimetype": "text/x-python",
   "name": "python",
   "nbconvert_exporter": "python",
   "pygments_lexer": "ipython3",
   "version": "3.13.7"
  }
 },
 "nbformat": 4,
 "nbformat_minor": 5
}
