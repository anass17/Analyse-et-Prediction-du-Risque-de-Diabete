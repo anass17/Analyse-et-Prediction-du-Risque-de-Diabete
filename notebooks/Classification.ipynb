{
 "cells": [
  {
   "cell_type": "markdown",
   "id": "47c19226",
   "metadata": {},
   "source": [
    "### Calculer les moyennes de chaque variable dans chaque cluster.\n"
   ]
  },
  {
   "cell_type": "code",
   "execution_count": null,
   "id": "49341cfa",
   "metadata": {},
   "outputs": [],
   "source": [
    "import pandas as pd\n",
    "import os\n",
    "import numpy as np\n",
    "\n",
    "df_classified = pd.read_csv(os.getcwd() + '/../data/processed/dataset-classified.csv')\n",
    "\n",
    "cluster_means = df_classified.groupby('Cluster').mean()\n",
    "\n",
    "print(cluster_means)"
   ]
  },
  {
   "cell_type": "markdown",
   "id": "e2c6bd9b",
   "metadata": {},
   "source": [
    "### Compter le nombre d’observations par groupe."
   ]
  },
  {
   "cell_type": "code",
   "execution_count": null,
   "id": "78149747",
   "metadata": {},
   "outputs": [],
   "source": [
    "import pandas as pd\n",
    "import os\n",
    "\n",
    "df_classified = pd.read_csv(os.getcwd() + '/../data/processed/dataset-classified.csv')\n",
    "\n",
    "cluster_means = df_classified['Cluster'].value_counts()\n",
    "print(cluster_means)"
   ]
  },
  {
   "cell_type": "markdown",
   "id": "e8fc73ee",
   "metadata": {},
   "source": [
    "### Identifier le cluster à haut risque (Glucose > 126, BMI > 30, DPF > 0.5)."
   ]
  },
  {
   "cell_type": "markdown",
   "id": "69c28897",
   "metadata": {},
   "source": [
    "On applique la fonction exponentielle pour revenir aux valeurs initiales de DiabetesPedigreeFunction, puis on calcule la moyenne de chaque caractéristique pour chaque cluster.\n",
    "\n",
    "Les résultats indiquent que le cluster 1 correspond au groupe à haut risque de diabète."
   ]
  },
  {
   "cell_type": "code",
   "execution_count": 70,
   "id": "2cd9e500",
   "metadata": {},
   "outputs": [
    {
     "name": "stdout",
     "output_type": "stream",
     "text": [
      "High risk cluster: 1\n"
     ]
    }
   ],
   "source": [
    "df_classified_copy = df_classified.copy()\n",
    "\n",
    "df_classified_copy['DiabetesPedigreeFunction'] = np.exp(df_classified_copy['DiabetesPedigreeFunction'])\n",
    "\n",
    "cluster_means = df_classified_copy.groupby('Cluster').mean()\n",
    "\n",
    "cluster_high_risk = cluster_means[(cluster_means[\"Glucose\"] > 126) & (cluster_means[\"BMI\"] > 30) & (cluster_means[\"DiabetesPedigreeFunction\"] > 0.5)]\n",
    "\n",
    "# The cluster\n",
    "cluster_high_risk_id = cluster_high_risk.index[0]\n",
    "\n",
    "print(\"High risk cluster:\", cluster_high_risk_id)"
   ]
  },
  {
   "cell_type": "markdown",
   "id": "16b3d2eb",
   "metadata": {},
   "source": [
    "### Ajouter une colonne risk_category selon le niveau de risque (1 = élevé, 0 = faible)."
   ]
  },
  {
   "cell_type": "code",
   "execution_count": 71,
   "id": "687c1517",
   "metadata": {},
   "outputs": [
    {
     "name": "stdout",
     "output_type": "stream",
     "text": [
      "   Cluster risk_category\n",
      "0        1         Eleve\n",
      "1        0        Faible\n",
      "2        1         Eleve\n",
      "3        0        Faible\n",
      "4        1         Eleve\n"
     ]
    }
   ],
   "source": [
    "df_classified['risk_category'] = df_classified[\"Cluster\"].map({cluster_high_risk_id: \"Eleve\", 1 - cluster_high_risk_id: \"Faible\"})\n",
    "\n",
    "print(df_classified[[\"Cluster\", \"risk_category\"]].head())\n",
    "\n",
    "df_classified.to_csv(os.getcwd() + '/../data/processed/dataset-category.csv', index=False)"
   ]
  }
 ],
 "metadata": {
  "kernelspec": {
   "display_name": "Python 3",
   "language": "python",
   "name": "python3"
  },
  "language_info": {
   "codemirror_mode": {
    "name": "ipython",
    "version": 3
   },
   "file_extension": ".py",
   "mimetype": "text/x-python",
   "name": "python",
   "nbconvert_exporter": "python",
   "pygments_lexer": "ipython3",
   "version": "3.13.7"
  }
 },
 "nbformat": 4,
 "nbformat_minor": 5
}
