{
 "cells": [
  {
   "cell_type": "markdown",
   "id": "47c19226",
   "metadata": {},
   "source": [
    "### Calculer les moyennes de chaque variable dans chaque cluster.\n"
   ]
  },
  {
   "cell_type": "code",
   "execution_count": 5,
   "id": "49341cfa",
   "metadata": {},
   "outputs": [
    {
     "name": "stdout",
     "output_type": "stream",
     "text": [
      "         Pregnancies     Glucose  BloodPressure  SkinThickness   Insulin  \\\n",
      "Cluster                                                                    \n",
      "0           1.213501  126.495538      69.497638      29.407349  4.948676   \n",
      "1           1.416325  115.781267      74.512397      27.989532  4.751648   \n",
      "\n",
      "               BMI  DiabetesPedigreeFunction       Age  \n",
      "Cluster                                                 \n",
      "0        33.028031                 -0.834816  3.416545  \n",
      "1        31.061598                 -1.094569  3.477745  \n"
     ]
    }
   ],
   "source": [
    "import pandas as pd\n",
    "import os\n",
    "\n",
    "df_classified = pd.read_csv(os.getcwd() + '/../data/processed/dataset-classified.csv')\n",
    "\n",
    "cluster_means = df_classified.groupby('Cluster').mean()\n",
    "print(cluster_means)"
   ]
  }
 ],
 "metadata": {
  "kernelspec": {
   "display_name": "Python 3",
   "language": "python",
   "name": "python3"
  },
  "language_info": {
   "codemirror_mode": {
    "name": "ipython",
    "version": 3
   },
   "file_extension": ".py",
   "mimetype": "text/x-python",
   "name": "python",
   "nbconvert_exporter": "python",
   "pygments_lexer": "ipython3",
   "version": "3.13.7"
  }
 },
 "nbformat": 4,
 "nbformat_minor": 5
}
