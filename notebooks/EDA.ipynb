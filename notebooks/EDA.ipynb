{
 "cells": [
  {
   "cell_type": "markdown",
   "id": "b65babf3",
   "metadata": {},
   "source": [
    "### Importer les données avec pandas.\n",
    "on importe les données, et on supprimer la premiére colonne (colonne de ID)"
   ]
  },
  {
   "cell_type": "code",
   "execution_count": null,
   "id": "9446e405",
   "metadata": {},
   "outputs": [],
   "source": [
    "import pandas as pd\n",
    "import os\n",
    "\n",
    "df = pd.read_csv(os.getcwd() + '/../data/raw/dataset-diabete.csv')\n",
    "\n",
    "df.drop(\"Unnamed: 0\", axis=1, inplace=True)\n",
    "\n",
    "print(df.sample())\n"
   ]
  },
  {
   "cell_type": "markdown",
   "id": "fd13881b",
   "metadata": {},
   "source": [
    "### Examiner les dimensions, types de variables et aperçu des premières lignes."
   ]
  },
  {
   "cell_type": "code",
   "execution_count": null,
   "id": "72f48b9e",
   "metadata": {},
   "outputs": [],
   "source": [
    "print(\"--- Dimensions:\\n\", df.shape, \"\\n\\n\")\n",
    "\n",
    "print(\"--- Data Types:\\n\", df.dtypes, '\\n\\n', sep=\"\")\n",
    "\n",
    "print(\"--- Colonnes:\\n\", list(df.columns), \"\\n\\n\", sep=\"\")\n",
    "\n",
    "print(\"--- Nombre de Colonnes:\\n\", len(df.columns), '\\n\\n')\n",
    "\n",
    "print(\"--- First 5 columns:\")\n",
    "\n",
    "print(df.head())"
   ]
  },
  {
   "cell_type": "markdown",
   "id": "5e3a0ef7",
   "metadata": {},
   "source": [
    "### Identifier les valeurs manquantes et doublons.\n",
    "Dans cette etape, on affiche:\n",
    "- Le nombre de valeurs manquantes dans chaque colonne\n",
    "- Les colonne qui contient au moins une valeur manquante\n",
    "- Les lignes doublons"
   ]
  },
  {
   "cell_type": "code",
   "execution_count": null,
   "id": "77ba80fb",
   "metadata": {},
   "outputs": [],
   "source": [
    "print((df == 0).sum(), '\\n\\n')\n",
    "\n",
    "print(df[(df == 0).any(axis=1)], '\\n\\n')\n",
    "\n",
    "print(df[df.duplicated()])\n"
   ]
  },
  {
   "cell_type": "markdown",
   "id": "9a9a253c",
   "metadata": {},
   "source": [
    "### Analyser la distribution des variables numériques."
   ]
  },
  {
   "cell_type": "markdown",
   "id": "58fff6b8",
   "metadata": {},
   "source": [
    "Affichage de statistiques de données sous forme d'une dataframe qui contient:\n",
    "- La moyenne\n",
    "- Le médiane\n",
    "- La variance\n",
    "- L'écart-type\n",
    "- Le min\n",
    "- Le max\n",
    "\n",
    "La fonction set_option() et utiliser pour afficher tous les colonnes de DataFrame dans une seul ligne"
   ]
  },
  {
   "cell_type": "code",
   "execution_count": null,
   "id": "6a60610e",
   "metadata": {},
   "outputs": [],
   "source": [
    "stats = pd.DataFrame({\n",
    "    \"Moyenne\": df.mean(),\n",
    "    \"Mediane\": df.median(),\n",
    "    \"Variance\": df.var(),\n",
    "    \"Ecart-Type\": df.std(),\n",
    "    \"Min\": df.min(),\n",
    "    \"Max\": df.max(),\n",
    "})\n",
    "\n",
    "pd.set_option('display.width', 1000)\n",
    "\n",
    "print(stats)"
   ]
  },
  {
   "cell_type": "markdown",
   "id": "7a4899b5",
   "metadata": {},
   "source": [
    "### Créer une matrice de corrélation et des visualisations (heatmap, histogrammes, pairplots)."
   ]
  },
  {
   "cell_type": "markdown",
   "id": "dfe83c4b",
   "metadata": {},
   "source": [
    "- Matrice de corrélation:"
   ]
  },
  {
   "cell_type": "code",
   "execution_count": null,
   "id": "1490be7a",
   "metadata": {},
   "outputs": [],
   "source": [
    "matrice_corr = df.corr()\n",
    "\n",
    "print(matrice_corr)"
   ]
  },
  {
   "cell_type": "markdown",
   "id": "06056777",
   "metadata": {},
   "source": [
    "- Heatmap:"
   ]
  },
  {
   "cell_type": "code",
   "execution_count": null,
   "id": "8406f5ad",
   "metadata": {},
   "outputs": [],
   "source": [
    "import matplotlib.pyplot as plt\n",
    "import seaborn as sb\n",
    "\n",
    "plt.figure(figsize=(8,6))\n",
    "sb.heatmap(matrice_corr, annot=True, cmap=\"coolwarm\", fmt=\".2f\")\n",
    "plt.title(\"Correlation Heatmap\")\n",
    "plt.show()"
   ]
  },
  {
   "cell_type": "markdown",
   "id": "3f11fe74",
   "metadata": {},
   "source": [
    "- Histogrammes:"
   ]
  },
  {
   "cell_type": "code",
   "execution_count": null,
   "id": "2cf1ac30",
   "metadata": {},
   "outputs": [],
   "source": [
    "counts = df['Age'].value_counts().sort_index()\n",
    "\n",
    "plt.figure(figsize=(15, 15))\n",
    "\n",
    "plt.subplot(3, 3, 1)\n",
    "plt.bar(counts.index, counts.values)\n",
    "plt.xlabel(\"Age\")\n",
    "plt.ylabel(\"Frequency\")\n",
    "plt.title(\"Bar Plot of Age\")\n",
    "\n",
    "counts = df['Pregnancies'].value_counts().sort_index()\n",
    "\n",
    "plt.subplot(3, 3, 2)\n",
    "plt.bar(counts.index, counts.values)\n",
    "plt.xlabel(\"Pregnancies\")\n",
    "plt.ylabel(\"Frequency\")\n",
    "plt.title(\"Bar Plot of Pregnancies\")\n",
    "\n",
    "plt.subplot(3, 3, 3)\n",
    "plt.hist(x=df[\"Glucose\"], rwidth=0.9, bins=range(0, round(df[\"Glucose\"].max() + 2), 10))\n",
    "plt.xlabel(\"Pregnancies\")\n",
    "plt.ylabel(\"Frequency\")\n",
    "plt.title(\"Histogram of Glucose\")\n",
    "\n",
    "plt.subplot(3, 3, 4)\n",
    "plt.hist(x=df[\"BloodPressure\"], rwidth=0.9, bins=range(0, round(df[\"BloodPressure\"].max() + 5), 5))\n",
    "plt.xlabel(\"BloodPressure\")\n",
    "plt.ylabel(\"Frequency\")\n",
    "plt.title(\"Histogram of BloodPressure\")\n",
    "\n",
    "plt.subplot(3, 3, 5)\n",
    "plt.hist(x=df[\"SkinThickness\"], rwidth=0.9, bins=range(0, round(df[\"SkinThickness\"].max() + 5), 4))\n",
    "plt.xlabel(\"SkinThickness\")\n",
    "plt.ylabel(\"Frequency\")\n",
    "plt.title(\"Histogram of SkinThickness\")\n",
    "\n",
    "plt.subplot(3, 3, 6)\n",
    "plt.hist(x=df[\"BMI\"], rwidth=0.9, bins=range(0, round(df[\"BMI\"].max() + 5), 4))\n",
    "plt.xlabel(\"BMI\")\n",
    "plt.ylabel(\"Frequency\")\n",
    "plt.title(\"Histogram of BMI\")\n",
    "\n",
    "plt.subplot(3, 3, 7)\n",
    "plt.hist(x=df[\"DiabetesPedigreeFunction\"], rwidth=0.9)\n",
    "plt.xlabel(\"DiabetesPedigreeFunction\")\n",
    "plt.ylabel(\"Frequency\")\n",
    "plt.title(\"Histogram of DiabetesPedigreeFunction\")\n",
    "\n",
    "plt.tight_layout()\n",
    "plt.show()"
   ]
  }
 ],
 "metadata": {
  "kernelspec": {
   "display_name": "Python 3",
   "language": "python",
   "name": "python3"
  },
  "language_info": {
   "codemirror_mode": {
    "name": "ipython",
    "version": 3
   },
   "file_extension": ".py",
   "mimetype": "text/x-python",
   "name": "python",
   "nbconvert_exporter": "python",
   "pygments_lexer": "ipython3",
   "version": "3.13.7"
  }
 },
 "nbformat": 4,
 "nbformat_minor": 5
}
