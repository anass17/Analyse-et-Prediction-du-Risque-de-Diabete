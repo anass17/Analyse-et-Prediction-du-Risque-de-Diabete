{
 "cells": [
  {
   "cell_type": "markdown",
   "id": "b65babf3",
   "metadata": {},
   "source": [
    "### Importer les données avec pandas.\n",
    "on importe les données, et on supprimer la premiére colonne (colonne de ID)"
   ]
  },
  {
   "cell_type": "code",
   "execution_count": null,
   "id": "9446e405",
   "metadata": {},
   "outputs": [],
   "source": [
    "import pandas as pd\n",
    "import os\n",
    "\n",
    "df = pd.read_csv(os.getcwd() + '/../data/raw/dataset-diabete.csv')\n",
    "\n",
    "df.drop(\"Unnamed: 0\", axis=1, inplace=True)\n",
    "\n",
    "print(df.sample())\n"
   ]
  },
  {
   "cell_type": "markdown",
   "id": "fd13881b",
   "metadata": {},
   "source": [
    "### Examiner les dimensions, types de variables et aperçu des premières lignes."
   ]
  },
  {
   "cell_type": "code",
   "execution_count": null,
   "id": "72f48b9e",
   "metadata": {},
   "outputs": [],
   "source": [
    "print(\"--- Dimensions:\\n\", df.shape, \"\\n\\n\")\n",
    "\n",
    "print(\"--- Data Types:\\n\", df.dtypes, '\\n\\n', sep=\"\")\n",
    "\n",
    "print(\"--- Colonnes:\\n\", list(df.columns), \"\\n\\n\", sep=\"\")\n",
    "\n",
    "print(\"--- Nombre de Colonnes:\\n\", len(df.columns), '\\n\\n')\n",
    "\n",
    "print(\"--- First 5 columns:\")\n",
    "\n",
    "print(df.head())"
   ]
  },
  {
   "cell_type": "markdown",
   "id": "5e3a0ef7",
   "metadata": {},
   "source": [
    "### Identifier les valeurs manquantes et doublons.\n",
    "Dans cette etape, on affiche:\n",
    "- Le nombre de valeurs manquantes dans chaque colonne\n",
    "- Les colonne qui contient au moins une valeur manquante\n",
    "- Les lignes doublons"
   ]
  },
  {
   "cell_type": "code",
   "execution_count": null,
   "id": "77ba80fb",
   "metadata": {},
   "outputs": [],
   "source": [
    "print(df.isnull().sum(), '\\n\\n')\n",
    "\n",
    "print(df[df.isnull().any(axis=1)], '\\n\\n')\n",
    "\n",
    "print(df[df.duplicated()])\n"
   ]
  }
 ],
 "metadata": {
  "kernelspec": {
   "display_name": "Python 3",
   "language": "python",
   "name": "python3"
  },
  "language_info": {
   "codemirror_mode": {
    "name": "ipython",
    "version": 3
   },
   "file_extension": ".py",
   "mimetype": "text/x-python",
   "name": "python",
   "nbconvert_exporter": "python",
   "pygments_lexer": "ipython3",
   "version": "3.13.7"
  }
 },
 "nbformat": 4,
 "nbformat_minor": 5
}
