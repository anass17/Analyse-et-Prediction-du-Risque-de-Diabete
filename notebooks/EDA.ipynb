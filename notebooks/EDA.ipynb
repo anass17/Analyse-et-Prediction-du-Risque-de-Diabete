{
 "cells": [
  {
   "cell_type": "markdown",
   "id": "b65babf3",
   "metadata": {},
   "source": [
    "### Importer les données avec pandas.\n",
    "on importe les données, et on supprimer la premiére colonne (colonne de ID)"
   ]
  },
  {
   "cell_type": "code",
   "execution_count": null,
   "id": "9446e405",
   "metadata": {},
   "outputs": [],
   "source": [
    "import pandas as pd\n",
    "import os\n",
    "\n",
    "df = pd.read_csv(os.getcwd() + '/../data/raw/dataset-diabete.csv')\n",
    "\n",
    "df.drop(\"Unnamed: 0\", axis=1, inplace=True)\n",
    "\n",
    "print(df.sample())\n"
   ]
  },
  {
   "cell_type": "markdown",
   "id": "fd13881b",
   "metadata": {},
   "source": [
    "### Examiner les dimensions, types de variables et aperçu des premières lignes."
   ]
  },
  {
   "cell_type": "code",
   "execution_count": null,
   "id": "72f48b9e",
   "metadata": {},
   "outputs": [],
   "source": [
    "print(\"--- Dimensions:\\n\", df.shape, \"\\n\\n\")\n",
    "\n",
    "print(\"--- Data Types:\\n\", df.dtypes, '\\n\\n', sep=\"\")\n",
    "\n",
    "print(\"--- Colonnes:\\n\", list(df.columns), \"\\n\\n\", sep=\"\")\n",
    "\n",
    "print(\"--- Nombre de Colonnes:\\n\", len(df.columns), '\\n\\n')\n",
    "\n",
    "print(\"--- First 5 columns:\")\n",
    "\n",
    "print(df.head())"
   ]
  },
  {
   "cell_type": "markdown",
   "id": "5e3a0ef7",
   "metadata": {},
   "source": [
    "### Identifier les valeurs manquantes et doublons.\n",
    "Dans cette etape, on affiche:\n",
    "- Le nombre de valeurs manquantes dans chaque colonne\n",
    "- Les colonne qui contient au moins une valeur manquante\n",
    "- Les lignes doublons"
   ]
  },
  {
   "cell_type": "code",
   "execution_count": null,
   "id": "77ba80fb",
   "metadata": {},
   "outputs": [],
   "source": [
    "print(df.isnull().sum(), '\\n\\n')\n",
    "\n",
    "print(df[df.isnull().any(axis=1)], '\\n\\n')\n",
    "\n",
    "print(df[df.duplicated()])\n"
   ]
  },
  {
   "cell_type": "markdown",
   "id": "9a9a253c",
   "metadata": {},
   "source": [
    "### Analyser la distribution des variables numériques."
   ]
  },
  {
   "cell_type": "markdown",
   "id": "58fff6b8",
   "metadata": {},
   "source": [
    "Affichage de statistiques de données sous forme d'une dataframe qui contient:\n",
    "- La moyenne\n",
    "- Le médiane\n",
    "- La variance\n",
    "- L'écart-type\n",
    "- Le min\n",
    "- Le max\n",
    "\n",
    "La fonction set_option() et utiliser pour afficher tous les colonnes de DataFrame dans une seul ligne"
   ]
  },
  {
   "cell_type": "code",
   "execution_count": 76,
   "id": "6a60610e",
   "metadata": {},
   "outputs": [
    {
     "name": "stdout",
     "output_type": "stream",
     "text": [
      "                             Moyenne  Mediane      Variance  Ecart-Type     Min     Max\n",
      "Pregnancies                 3.848761    3.000     11.358298    3.370207   0.000   17.00\n",
      "Glucose                   120.899609  117.000   1023.563016   31.993171   0.000  199.00\n",
      "BloodPressure              69.091384   72.000    375.549808   19.379108   0.000  122.00\n",
      "SkinThickness              20.516297   23.000    254.492880   15.952833   0.000   99.00\n",
      "Insulin                    79.787206   27.000  13313.412176  115.383760   0.000  846.00\n",
      "BMI                        32.005346   32.000     62.115781    7.881357   0.000   67.10\n",
      "DiabetesPedigreeFunction    0.472160    0.374      0.109860    0.331451   0.078    2.42\n",
      "Age                        33.245431   29.000    138.420731   11.765234  21.000   81.00\n"
     ]
    }
   ],
   "source": [
    "stats = pd.DataFrame({\n",
    "    \"Moyenne\": df.mean(),\n",
    "    \"Mediane\": df.median(),\n",
    "    \"Variance\": df.var(),\n",
    "    \"Ecart-Type\": df.std(),\n",
    "    \"Min\": df.min(),\n",
    "    \"Max\": df.max(),\n",
    "})\n",
    "\n",
    "pd.set_option('display.width', 1000)\n",
    "\n",
    "print(stats)"
   ]
  }
 ],
 "metadata": {
  "kernelspec": {
   "display_name": "Python 3",
   "language": "python",
   "name": "python3"
  },
  "language_info": {
   "codemirror_mode": {
    "name": "ipython",
    "version": 3
   },
   "file_extension": ".py",
   "mimetype": "text/x-python",
   "name": "python",
   "nbconvert_exporter": "python",
   "pygments_lexer": "ipython3",
   "version": "3.13.7"
  }
 },
 "nbformat": 4,
 "nbformat_minor": 5
}
